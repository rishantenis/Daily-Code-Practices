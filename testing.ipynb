{
 "cells": [
  {
   "cell_type": "code",
   "execution_count": 2,
   "metadata": {},
   "outputs": [
    {
     "name": "stdout",
     "output_type": "stream",
     "text": [
      "[1, 2, 3, 4, 5, 6, 7]\n"
     ]
    }
   ],
   "source": [
    "list1 = [1, 2, 3, 4, 5]\n",
    "list2 = [3, 4, 5, 6, 7]\n",
    "combined_list = list1 + list2\n",
    "unique_elements = set(combined_list)\n",
    "sorted_list = sorted(unique_elements)\n",
    "print(sorted_list)  "
   ]
  },
  {
   "cell_type": "code",
   "execution_count": 15,
   "metadata": {},
   "outputs": [
    {
     "name": "stdout",
     "output_type": "stream",
     "text": [
      "[3, 2, 1, 1, 1, 1]\n"
     ]
    }
   ],
   "source": [
    "def tupleele(tuplelist):\n",
    "    uniqueelements = []\n",
    "    elementcounts = []\n",
    "\n",
    "    for t in tuplelist:\n",
    "        for elem in t:\n",
    "\n",
    "            if elem in unique:\n",
    "                elementcounts[unique.index(elem)] += 1\n",
    "           \n",
    "\n",
    "            else:\n",
    "                uniqueelements.append(elem)\n",
    "                elementcounts.append(1)\n",
    "\n",
    "    return elementcounts\n",
    "tuple_list = [(1, 2, 3), (4, 5, 1), (1, 2, 6)]\n",
    "print(tupleele(tuple_list))  \n",
    "\n",
    "\n"
   ]
  }
 ],
 "metadata": {
  "kernelspec": {
   "display_name": "Data_Sci",
   "language": "python",
   "name": "python3"
  },
  "language_info": {
   "codemirror_mode": {
    "name": "ipython",
    "version": 3
   },
   "file_extension": ".py",
   "mimetype": "text/x-python",
   "name": "python",
   "nbconvert_exporter": "python",
   "pygments_lexer": "ipython3",
   "version": "3.7.16"
  }
 },
 "nbformat": 4,
 "nbformat_minor": 2
}
